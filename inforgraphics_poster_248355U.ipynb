{
 "cells": [
  {
   "cell_type": "code",
   "execution_count": 2,
   "metadata": {},
   "outputs": [
    {
     "data": {
      "text/html": [
       "<div>\n",
       "<style scoped>\n",
       "    .dataframe tbody tr th:only-of-type {\n",
       "        vertical-align: middle;\n",
       "    }\n",
       "\n",
       "    .dataframe tbody tr th {\n",
       "        vertical-align: top;\n",
       "    }\n",
       "\n",
       "    .dataframe thead th {\n",
       "        text-align: right;\n",
       "    }\n",
       "</style>\n",
       "<table border=\"1\" class=\"dataframe\">\n",
       "  <thead>\n",
       "    <tr style=\"text-align: right;\">\n",
       "      <th></th>\n",
       "      <th>Year</th>\n",
       "      <th>Male No.</th>\n",
       "      <th>Male %</th>\n",
       "      <th>Female No.</th>\n",
       "      <th>Female %</th>\n",
       "      <th>Total</th>\n",
       "    </tr>\n",
       "  </thead>\n",
       "  <tbody>\n",
       "    <tr>\n",
       "      <th>0</th>\n",
       "      <td>1986</td>\n",
       "      <td>11023</td>\n",
       "      <td>76.25</td>\n",
       "      <td>3433</td>\n",
       "      <td>23.75</td>\n",
       "      <td>14456</td>\n",
       "    </tr>\n",
       "    <tr>\n",
       "      <th>1</th>\n",
       "      <td>1987</td>\n",
       "      <td>10647</td>\n",
       "      <td>75.37</td>\n",
       "      <td>3480</td>\n",
       "      <td>24.63</td>\n",
       "      <td>14127</td>\n",
       "    </tr>\n",
       "    <tr>\n",
       "      <th>2</th>\n",
       "      <td>1988</td>\n",
       "      <td>8309</td>\n",
       "      <td>45.09</td>\n",
       "      <td>10119</td>\n",
       "      <td>54.91</td>\n",
       "      <td>18428</td>\n",
       "    </tr>\n",
       "    <tr>\n",
       "      <th>3</th>\n",
       "      <td>1989</td>\n",
       "      <td>8680</td>\n",
       "      <td>35.11</td>\n",
       "      <td>16044</td>\n",
       "      <td>64.89</td>\n",
       "      <td>24724</td>\n",
       "    </tr>\n",
       "    <tr>\n",
       "      <th>4</th>\n",
       "      <td>1990</td>\n",
       "      <td>15377</td>\n",
       "      <td>36.08</td>\n",
       "      <td>27248</td>\n",
       "      <td>63.92</td>\n",
       "      <td>42625</td>\n",
       "    </tr>\n",
       "  </tbody>\n",
       "</table>\n",
       "</div>"
      ],
      "text/plain": [
       "   Year  Male No.   Male %   Female No.   Female %   Total \n",
       "0  1986      11023   76.25          3433     23.75    14456\n",
       "1  1987      10647   75.37          3480     24.63    14127\n",
       "2  1988       8309   45.09         10119     54.91    18428\n",
       "3  1989       8680   35.11         16044     64.89    24724\n",
       "4  1990      15377   36.08         27248     63.92    42625"
      ]
     },
     "execution_count": 2,
     "metadata": {},
     "output_type": "execute_result"
    }
   ],
   "source": [
    "import pandas as pd\n",
    "import seaborn as sns\n",
    "import matplotlib.pyplot as plt\n",
    "# Read the CSV file\n",
    "df = pd.read_csv('./departures_for_foreign_employment_1986_2012_0.csv')\n",
    "\n",
    "# Display the contents of the DataFrame\n",
    "df.head()\n"
   ]
  },
  {
   "cell_type": "code",
   "execution_count": 3,
   "metadata": {},
   "outputs": [
    {
     "data": {
      "text/html": [
       "<div>\n",
       "<style scoped>\n",
       "    .dataframe tbody tr th:only-of-type {\n",
       "        vertical-align: middle;\n",
       "    }\n",
       "\n",
       "    .dataframe tbody tr th {\n",
       "        vertical-align: top;\n",
       "    }\n",
       "\n",
       "    .dataframe thead th {\n",
       "        text-align: right;\n",
       "    }\n",
       "</style>\n",
       "<table border=\"1\" class=\"dataframe\">\n",
       "  <thead>\n",
       "    <tr style=\"text-align: right;\">\n",
       "      <th></th>\n",
       "      <th>Year</th>\n",
       "      <th>Male No.</th>\n",
       "      <th>Male %</th>\n",
       "      <th>Female No.</th>\n",
       "      <th>Female %</th>\n",
       "      <th>Total</th>\n",
       "    </tr>\n",
       "  </thead>\n",
       "  <tbody>\n",
       "    <tr>\n",
       "      <th>count</th>\n",
       "      <td>27.000000</td>\n",
       "      <td>27.000000</td>\n",
       "      <td>27.000000</td>\n",
       "      <td>27.000000</td>\n",
       "      <td>27.000000</td>\n",
       "      <td>27.000000</td>\n",
       "    </tr>\n",
       "    <tr>\n",
       "      <th>mean</th>\n",
       "      <td>1999.000000</td>\n",
       "      <td>62987.407407</td>\n",
       "      <td>40.278519</td>\n",
       "      <td>95332.000000</td>\n",
       "      <td>59.721481</td>\n",
       "      <td>158319.407407</td>\n",
       "    </tr>\n",
       "    <tr>\n",
       "      <th>std</th>\n",
       "      <td>7.937254</td>\n",
       "      <td>43565.988038</td>\n",
       "      <td>13.405267</td>\n",
       "      <td>46916.639267</td>\n",
       "      <td>13.405267</td>\n",
       "      <td>85031.529601</td>\n",
       "    </tr>\n",
       "    <tr>\n",
       "      <th>min</th>\n",
       "      <td>1986.000000</td>\n",
       "      <td>8309.000000</td>\n",
       "      <td>24.990000</td>\n",
       "      <td>3433.000000</td>\n",
       "      <td>23.750000</td>\n",
       "      <td>14127.000000</td>\n",
       "    </tr>\n",
       "    <tr>\n",
       "      <th>25%</th>\n",
       "      <td>1992.500000</td>\n",
       "      <td>26846.000000</td>\n",
       "      <td>32.660000</td>\n",
       "      <td>66713.500000</td>\n",
       "      <td>52.160000</td>\n",
       "      <td>94738.500000</td>\n",
       "    </tr>\n",
       "    <tr>\n",
       "      <th>50%</th>\n",
       "      <td>1999.000000</td>\n",
       "      <td>59793.000000</td>\n",
       "      <td>35.510000</td>\n",
       "      <td>116015.000000</td>\n",
       "      <td>64.490000</td>\n",
       "      <td>179735.000000</td>\n",
       "    </tr>\n",
       "    <tr>\n",
       "      <th>75%</th>\n",
       "      <td>2005.500000</td>\n",
       "      <td>92033.000000</td>\n",
       "      <td>47.840000</td>\n",
       "      <td>127199.500000</td>\n",
       "      <td>67.340000</td>\n",
       "      <td>216584.000000</td>\n",
       "    </tr>\n",
       "    <tr>\n",
       "      <th>max</th>\n",
       "      <td>2012.000000</td>\n",
       "      <td>143784.000000</td>\n",
       "      <td>76.250000</td>\n",
       "      <td>138547.000000</td>\n",
       "      <td>75.010000</td>\n",
       "      <td>282331.000000</td>\n",
       "    </tr>\n",
       "  </tbody>\n",
       "</table>\n",
       "</div>"
      ],
      "text/plain": [
       "              Year      Male No.      Male %    Female No.    Female %  \\\n",
       "count    27.000000      27.000000  27.000000      27.000000  27.000000   \n",
       "mean   1999.000000   62987.407407  40.278519   95332.000000  59.721481   \n",
       "std       7.937254   43565.988038  13.405267   46916.639267  13.405267   \n",
       "min    1986.000000    8309.000000  24.990000    3433.000000  23.750000   \n",
       "25%    1992.500000   26846.000000  32.660000   66713.500000  52.160000   \n",
       "50%    1999.000000   59793.000000  35.510000  116015.000000  64.490000   \n",
       "75%    2005.500000   92033.000000  47.840000  127199.500000  67.340000   \n",
       "max    2012.000000  143784.000000  76.250000  138547.000000  75.010000   \n",
       "\n",
       "              Total   \n",
       "count      27.000000  \n",
       "mean   158319.407407  \n",
       "std     85031.529601  \n",
       "min     14127.000000  \n",
       "25%     94738.500000  \n",
       "50%    179735.000000  \n",
       "75%    216584.000000  \n",
       "max    282331.000000  "
      ]
     },
     "execution_count": 3,
     "metadata": {},
     "output_type": "execute_result"
    }
   ],
   "source": [
    "df.describe()"
   ]
  },
  {
   "cell_type": "code",
   "execution_count": 4,
   "metadata": {},
   "outputs": [
    {
     "name": "stdout",
     "output_type": "stream",
     "text": [
      "Index(['Year', 'Male No. ', 'Male %', ' Female No. ', 'Female %', ' Total '], dtype='object')\n"
     ]
    },
    {
     "data": {
      "text/html": [
       "<div>\n",
       "<style scoped>\n",
       "    .dataframe tbody tr th:only-of-type {\n",
       "        vertical-align: middle;\n",
       "    }\n",
       "\n",
       "    .dataframe tbody tr th {\n",
       "        vertical-align: top;\n",
       "    }\n",
       "\n",
       "    .dataframe thead th {\n",
       "        text-align: right;\n",
       "    }\n",
       "</style>\n",
       "<table border=\"1\" class=\"dataframe\">\n",
       "  <thead>\n",
       "    <tr style=\"text-align: right;\">\n",
       "      <th></th>\n",
       "      <th>Year</th>\n",
       "      <th>Male_No</th>\n",
       "      <th>Male %</th>\n",
       "      <th>Female_No</th>\n",
       "      <th>Female %</th>\n",
       "      <th>Total</th>\n",
       "    </tr>\n",
       "  </thead>\n",
       "  <tbody>\n",
       "    <tr>\n",
       "      <th>0</th>\n",
       "      <td>1986</td>\n",
       "      <td>11023</td>\n",
       "      <td>76.25</td>\n",
       "      <td>3433</td>\n",
       "      <td>23.75</td>\n",
       "      <td>14456</td>\n",
       "    </tr>\n",
       "    <tr>\n",
       "      <th>1</th>\n",
       "      <td>1987</td>\n",
       "      <td>10647</td>\n",
       "      <td>75.37</td>\n",
       "      <td>3480</td>\n",
       "      <td>24.63</td>\n",
       "      <td>14127</td>\n",
       "    </tr>\n",
       "    <tr>\n",
       "      <th>2</th>\n",
       "      <td>1988</td>\n",
       "      <td>8309</td>\n",
       "      <td>45.09</td>\n",
       "      <td>10119</td>\n",
       "      <td>54.91</td>\n",
       "      <td>18428</td>\n",
       "    </tr>\n",
       "    <tr>\n",
       "      <th>3</th>\n",
       "      <td>1989</td>\n",
       "      <td>8680</td>\n",
       "      <td>35.11</td>\n",
       "      <td>16044</td>\n",
       "      <td>64.89</td>\n",
       "      <td>24724</td>\n",
       "    </tr>\n",
       "    <tr>\n",
       "      <th>4</th>\n",
       "      <td>1990</td>\n",
       "      <td>15377</td>\n",
       "      <td>36.08</td>\n",
       "      <td>27248</td>\n",
       "      <td>63.92</td>\n",
       "      <td>42625</td>\n",
       "    </tr>\n",
       "  </tbody>\n",
       "</table>\n",
       "</div>"
      ],
      "text/plain": [
       "   Year  Male_No  Male %  Female_No  Female %   Total \n",
       "0  1986    11023   76.25       3433     23.75    14456\n",
       "1  1987    10647   75.37       3480     24.63    14127\n",
       "2  1988     8309   45.09      10119     54.91    18428\n",
       "3  1989     8680   35.11      16044     64.89    24724\n",
       "4  1990    15377   36.08      27248     63.92    42625"
      ]
     },
     "execution_count": 4,
     "metadata": {},
     "output_type": "execute_result"
    }
   ],
   "source": [
    "cols = df.columns\n",
    "print(cols)\n",
    "df.rename(columns={cols[1]: 'Male_No',cols[3]:'Female_No'}, inplace=True)\n",
    "df.head()"
   ]
  },
  {
   "cell_type": "code",
   "execution_count": 5,
   "metadata": {},
   "outputs": [
    {
     "data": {
      "image/png": "[encoded data removed]",
      "text/plain": [
       "<Figure size 432x288 with 1 Axes>"
      ]
     },
     "metadata": {
      "needs_background": "light"
     },
     "output_type": "display_data"
    }
   ],
   "source": [
    "sns.lineplot(x='Year', y=cols[5], data=df)\n",
    "plt.show()"
   ]
  },
  {
   "cell_type": "code",
   "execution_count": 6,
   "metadata": {},
   "outputs": [
    {
     "data": {
      "image/png": "[encoded data removed]",
      "text/plain": [
       "<Figure size 432x288 with 1 Axes>"
      ]
     },
     "metadata": {
      "needs_background": "light"
     },
     "output_type": "display_data"
    }
   ],
   "source": [
    "\n",
    "\n",
    "\n",
    "sns.lineplot(x='Year', y='Male_No', data=df)\n",
    "sns.lineplot(x='Year', y='Female_No', data=df)\n",
    "\n",
    "plt.legend(['Male', 'Female'])\n",
    "plt.show()\n"
   ]
  },
  {
   "cell_type": "code",
   "execution_count": 7,
   "metadata": {},
   "outputs": [
    {
     "name": "stderr",
     "output_type": "stream",
     "text": [
      "/Users/punsisikiridana/opt/anaconda3/lib/python3.8/site-packages/statsmodels/tsa/base/tsa_model.py:473: ValueWarning: No frequency information was provided, so inferred frequency AS-JAN will be used.\n",
      "  self._init_dates(dates, freq)\n",
      "/Users/punsisikiridana/opt/anaconda3/lib/python3.8/site-packages/statsmodels/tsa/base/tsa_model.py:473: ValueWarning: No frequency information was provided, so inferred frequency AS-JAN will be used.\n",
      "  self._init_dates(dates, freq)\n",
      "/Users/punsisikiridana/opt/anaconda3/lib/python3.8/site-packages/statsmodels/tsa/statespace/sarimax.py:866: UserWarning: Too few observations to estimate starting parameters for seasonal ARMA. All parameters except for variances will be set to zeros.\n",
      "  warn('Too few observations to estimate starting parameters%s.'\n"
     ]
    },
    {
     "name": "stdout",
     "output_type": "stream",
     "text": [
      "2013-01-01    143434.568151\n",
      "2014-01-01    152274.567100\n",
      "2015-01-01    157116.014320\n",
      "2016-01-01    168522.527191\n",
      "2017-01-01    171322.848549\n",
      "Freq: AS-JAN, Name: predicted_mean, dtype: float64\n",
      "            lower Male_No  upper Male_No\n",
      "2013-01-01  124782.699519  162086.436784\n",
      "2014-01-01  126129.890484  178419.243716\n",
      "2015-01-01  125012.225150  189219.803490\n",
      "2016-01-01  131549.197855  205495.856528\n",
      "2017-01-01  129929.006646  212716.690453\n"
     ]
    },
    {
     "name": "stderr",
     "output_type": "stream",
     "text": [
      "/Users/punsisikiridana/opt/anaconda3/lib/python3.8/site-packages/statsmodels/base/model.py:607: ConvergenceWarning: Maximum Likelihood optimization failed to converge. Check mle_retvals\n",
      "  warnings.warn(\"Maximum Likelihood optimization failed to \"\n"
     ]
    }
   ],
   "source": [
    "import statsmodels.api as sm\n",
    "\n",
    "# Convert the 'Year' column to datetime format\n",
    "df['Year'] = pd.to_datetime(df['Year'], format='%Y')\n",
    "\n",
    "# Set the 'Year' column as the index\n",
    "df.set_index('Year', inplace=True)\n",
    "\n",
    "# Fit the SARIMA model\n",
    "model = sm.tsa.statespace.SARIMAX(df['Male_No'], order=(1, 1, 1), seasonal_order=(1, 1, 1, 12))\n",
    "model_fit = model.fit()\n",
    "\n",
    "# Forecast the trend for the next 5 years\n",
    "forecast = model_fit.get_forecast(steps=5)\n",
    "\n",
    "# Get the predicted values and confidence intervals\n",
    "predicted_values = forecast.predicted_mean\n",
    "confidence_intervals = forecast.conf_int()\n",
    "\n",
    "# Print the forecasted trend\n",
    "print(predicted_values)\n",
    "print(confidence_intervals)\n",
    "\n"
   ]
  },
  {
   "cell_type": "code",
   "execution_count": 8,
   "metadata": {},
   "outputs": [
    {
     "name": "stderr",
     "output_type": "stream",
     "text": [
      "/Users/punsisikiridana/opt/anaconda3/lib/python3.8/site-packages/statsmodels/tsa/base/tsa_model.py:473: ValueWarning: No frequency information was provided, so inferred frequency AS-JAN will be used.\n",
      "  self._init_dates(dates, freq)\n",
      "/Users/punsisikiridana/opt/anaconda3/lib/python3.8/site-packages/statsmodels/tsa/base/tsa_model.py:473: ValueWarning: No frequency information was provided, so inferred frequency AS-JAN will be used.\n",
      "  self._init_dates(dates, freq)\n",
      "/Users/punsisikiridana/opt/anaconda3/lib/python3.8/site-packages/statsmodels/tsa/statespace/sarimax.py:866: UserWarning: Too few observations to estimate starting parameters for seasonal ARMA. All parameters except for variances will be set to zeros.\n",
      "  warn('Too few observations to estimate starting parameters%s.'\n"
     ]
    },
    {
     "data": {
      "image/png": "[encoded data removed]",
      "text/plain": [
       "<Figure size 432x288 with 1 Axes>"
      ]
     },
     "metadata": {
      "needs_background": "dark"
     },
     "output_type": "display_data"
    }
   ],
   "source": [
    "# Fit the SARIMA model for Total\n",
    "model_total = sm.tsa.statespace.SARIMAX(df[' Total '], order=(1, 1, 1), seasonal_order=(1, 1, 1, 12))\n",
    "model_fit_total = model_total.fit()\n",
    "\n",
    "# Forecast the trend for the next 5 years for Total\n",
    "forecast_total = model_fit_total.get_forecast(steps=5)\n",
    "predicted_values_total = forecast_total.predicted_mean\n",
    "confidence_intervals_total = forecast_total.conf_int()\n",
    "\n",
    "# Plot the forecasted trend for Total\n",
    "plt.plot(df.index, df[' Total '], label='Total')\n",
    "plt.plot(predicted_values_total.index, predicted_values_total, label='Total (Forecast)')\n",
    "\n",
    "# Fill the confidence intervals\n",
    "plt.fill_between(confidence_intervals_total.index, confidence_intervals_total['lower  Total '], confidence_intervals_total['upper  Total '], alpha=0.3)\n",
    "\n",
    "\n",
    "# Plot the forecasted trend for Total\n",
    "plt.plot(df.index, df[' Total '], label='Total')\n",
    "plt.plot(predicted_values_total.index, predicted_values_total, label='Total (Forecast)')\n",
    "\n",
    "# Fill the confidence intervals\n",
    "plt.fill_between(confidence_intervals_total.index, confidence_intervals_total['lower  Total '], confidence_intervals_total['upper  Total '], alpha=0.3)\n",
    "\n",
    "# Set the color of the x-axis and y-axis values to white\n",
    "plt.tick_params(colors='white')\n",
    "\n",
    "plt.xlabel('Year', color='white')\n",
    "plt.ylabel('Number of Departures', color='white')\n",
    "plt.title('Forecasted Trend of Departures for Total', color='white')\n",
    "\n",
    "\n",
    "plt.show()\n"
   ]
  },
  {
   "cell_type": "code",
   "execution_count": 9,
   "metadata": {},
   "outputs": [
    {
     "name": "stderr",
     "output_type": "stream",
     "text": [
      "/Users/punsisikiridana/opt/anaconda3/lib/python3.8/site-packages/statsmodels/tsa/base/tsa_model.py:473: ValueWarning: No frequency information was provided, so inferred frequency AS-JAN will be used.\n",
      "  self._init_dates(dates, freq)\n",
      "/Users/punsisikiridana/opt/anaconda3/lib/python3.8/site-packages/statsmodels/tsa/base/tsa_model.py:473: ValueWarning: No frequency information was provided, so inferred frequency AS-JAN will be used.\n",
      "  self._init_dates(dates, freq)\n",
      "/Users/punsisikiridana/opt/anaconda3/lib/python3.8/site-packages/statsmodels/tsa/statespace/sarimax.py:866: UserWarning: Too few observations to estimate starting parameters for seasonal ARMA. All parameters except for variances will be set to zeros.\n",
      "  warn('Too few observations to estimate starting parameters%s.'\n",
      "/Users/punsisikiridana/opt/anaconda3/lib/python3.8/site-packages/statsmodels/tsa/base/tsa_model.py:473: ValueWarning: No frequency information was provided, so inferred frequency AS-JAN will be used.\n",
      "  self._init_dates(dates, freq)\n",
      "/Users/punsisikiridana/opt/anaconda3/lib/python3.8/site-packages/statsmodels/tsa/base/tsa_model.py:473: ValueWarning: No frequency information was provided, so inferred frequency AS-JAN will be used.\n",
      "  self._init_dates(dates, freq)\n"
     ]
    },
    {
     "data": {
      "image/png": "[encoded data removed]",
      "text/plain": [
       "<Figure size 432x288 with 1 Axes>"
      ]
     },
     "metadata": {
      "needs_background": "light"
     },
     "output_type": "display_data"
    }
   ],
   "source": [
    "# Fit the SARIMA model for Male %\n",
    "model_male_percent = sm.tsa.statespace.SARIMAX(df['Male %'], order=(1, 1, 1), seasonal_order=(1, 1, 1, 12))\n",
    "model_fit_male_percent = model_male_percent.fit()\n",
    "\n",
    "# Forecast the trend for the next 5 years for Male %\n",
    "forecast_male_percent = model_fit_male_percent.get_forecast(steps=5)\n",
    "predicted_values_male_percent = forecast_male_percent.predicted_mean\n",
    "confidence_intervals_male_percent = forecast_male_percent.conf_int()\n",
    "\n",
    "# Fit the SARIMA model for Female %\n",
    "model_female_percent = sm.tsa.statespace.SARIMAX(df['Female %'], order=(1, 1, 1), seasonal_order=(1, 1, 1, 12))\n",
    "model_fit_female_percent = model_female_percent.fit()\n",
    "\n",
    "# Forecast the trend for the next 5 years for Female %\n",
    "forecast_female_percent = model_fit_female_percent.get_forecast(steps=5)\n",
    "predicted_values_female_percent = forecast_female_percent.predicted_mean\n",
    "confidence_intervals_female_percent = forecast_female_percent.conf_int()\n",
    "\n",
    "# Plot the forecasted trends for Male % and Female %\n",
    "plt.plot(df.index, df['Male %'], label='Male %')\n",
    "plt.plot(df.index, df['Female %'], label='Female %')\n",
    "plt.plot(predicted_values_male_percent.index, predicted_values_male_percent, label='Male % (Forecast)')\n",
    "plt.plot(predicted_values_female_percent.index, predicted_values_female_percent, label='Female % (Forecast)')\n",
    "\n",
    "# Fill the confidence intervals\n",
    "plt.fill_between(confidence_intervals_male_percent.index, confidence_intervals_male_percent['lower Male %'], confidence_intervals_male_percent['upper Male %'], alpha=0.3)\n",
    "plt.fill_between(confidence_intervals_female_percent.index, confidence_intervals_female_percent['lower Female %'], confidence_intervals_female_percent['upper Female %'], alpha=0.3)\n",
    "\n",
    "plt.xlabel('Year')\n",
    "plt.ylabel('Percentage')\n",
    "plt.title('Forecasted Trend of Male % and Female %')\n",
    "plt.legend(['Male %', 'Female %', 'Male % (Forecast)', 'Female % (Forecast)'])\n",
    "\n",
    "plt.show()\n"
   ]
  }
 ],
 "metadata": {
  "kernelspec": {
   "display_name": "base",
   "language": "python",
   "name": "python3"
  },
  "language_info": {
   "codemirror_mode": {
    "name": "ipython",
    "version": 3
   },
   "file_extension": ".py",
   "mimetype": "text/x-python",
   "name": "python",
   "nbconvert_exporter": "python",
   "pygments_lexer": "ipython3",
   "version": "3.8.5"
  }
 },
 "nbformat": 4,
 "nbformat_minor": 2
}
